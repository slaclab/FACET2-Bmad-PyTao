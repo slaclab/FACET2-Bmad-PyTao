{
 "cells": [
  {
   "cell_type": "code",
   "execution_count": 1,
   "id": "7f0b0532-1e4a-4f91-84b9-3f0b6b123ade",
   "metadata": {},
   "outputs": [],
   "source": [
    "from UTILITY_quickstart import *"
   ]
  },
  {
   "cell_type": "code",
   "execution_count": 2,
   "id": "4843ac52-c688-489e-858e-bffc77002c2a",
   "metadata": {},
   "outputs": [
    {
     "name": "stdout",
     "output_type": "stream",
     "text": [
      "Environment set to:  /Users/nmajik/Documents/SLAC/FACET2-S2E\n",
      "CSR off\n",
      "Overwriting lattice with setLattice() defaults\n",
      "No defaults file provided to setLattice(). Using /Users/nmajik/Documents/SLAC/FACET2-S2E/setLattice_configs/defaults.yml\n",
      "WARNING! No beam file is specified!\n",
      "Number of macro particles defined by input file\n",
      "Beam created, written to /Users/nmajik/Documents/SLAC/FACET2-S2E/beams/activeBeamFile.h5, and reinit to tao\n"
     ]
    }
   ],
   "source": [
    "tao = initializeTao()"
   ]
  },
  {
   "cell_type": "code",
   "execution_count": 3,
   "id": "1e1566a6-3196-4804-9c12-7f97e9bc94bc",
   "metadata": {},
   "outputs": [
    {
     "data": {
      "text/plain": [
       "['[INFO] tao_write_cmd:', '    Written: /Users/nmajik/flatGoldenLattice.bmad']"
      ]
     },
     "execution_count": 3,
     "metadata": {},
     "output_type": "execute_result"
    }
   ],
   "source": [
    "tao.cmd(\"write bmad /Users/nmajik/flatGoldenLattice.bmad\")"
   ]
  },
  {
   "cell_type": "code",
   "execution_count": 4,
   "id": "490962bf-84de-409f-8c54-0249aa223210",
   "metadata": {},
   "outputs": [
    {
     "ename": "TaoCommandError",
     "evalue": "Command: write madx /Users/nmajik/flatGoldenLattice.madx causes error: ERROR detected: [ERROR | 2025-JUL-08 09:22:57] write_lattice_in_mad_format:\n    I DO NOT KNOW HOW TO TRANSLATE ELEMENT: TCY10490_1\n    WHICH IS OF TYPE: Crab_Cavity\n    CONVERTING TO DRIFT\n[ERROR | 2025-JUL-08 09:22:57] write_lattice_in_mad_format:\n    I DO NOT KNOW HOW TO TRANSLATE ELEMENT: TCY10490_2\n    WHICH IS OF TYPE: Crab_Cavity\n    CONVERTING TO DRIFT\n[ERROR | 2025-JUL-08 09:22:57] write_lattice_in_mad_format:\n    I DO NOT KNOW HOW TO TRANSLATE ELEMENT: TCY15280\n    WHICH IS OF TYPE: Crab_Cavity\n    CONVERTING TO DRIFT\n[ERROR | 2025-JUL-08 09:22:57] write_lattice_in_mad_format:\n    I DO NOT KNOW HOW TO TRANSLATE ELEMENT: XTCAVF\n    WHICH IS OF TYPE: Crab_Cavity\n    CONVERTING TO DRIFT\n[INFO] write_lattice_in_mad_format:\n    Written MAD-X lattice file: /Users/nmajik/flatGoldenLattice.madx\n[INFO] tao_write_cmd:\n    Written: /Users/nmajik/flatGoldenLattice.madx",
     "output_type": "error",
     "traceback": [
      "\u001b[31m---------------------------------------------------------------------------\u001b[39m",
      "\u001b[31mTaoCommandError\u001b[39m                           Traceback (most recent call last)",
      "\u001b[36mCell\u001b[39m\u001b[36m \u001b[39m\u001b[32mIn[4]\u001b[39m\u001b[32m, line 1\u001b[39m\n\u001b[32m----> \u001b[39m\u001b[32m1\u001b[39m \u001b[43mtao\u001b[49m\u001b[43m.\u001b[49m\u001b[43mcmd\u001b[49m\u001b[43m(\u001b[49m\u001b[33;43m\"\u001b[39;49m\u001b[33;43mwrite madx /Users/nmajik/flatGoldenLattice.madx\u001b[39;49m\u001b[33;43m\"\u001b[39;49m\u001b[43m)\u001b[49m\n",
      "\u001b[36mFile \u001b[39m\u001b[32m/opt/homebrew/anaconda3/envs/bmad2025-06-27/lib/python3.13/site-packages/pytao/tao_ctypes/core.py:447\u001b[39m, in \u001b[36mTaoCore.cmd\u001b[39m\u001b[34m(self, cmd, raises)\u001b[39m\n\u001b[32m    445\u001b[39m         \u001b[38;5;28;01mreturn\u001b[39;00m \u001b[38;5;28mself\u001b[39m.get_output(reset=\u001b[38;5;28;01mFalse\u001b[39;00m)\n\u001b[32m    446\u001b[39m     lines = \u001b[38;5;28mself\u001b[39m.get_output(reset=\u001b[38;5;28;01mFalse\u001b[39;00m)\n\u001b[32m--> \u001b[39m\u001b[32m447\u001b[39m     \u001b[38;5;28;43mself\u001b[39;49m\u001b[43m.\u001b[49m\u001b[43m_check_output_lines\u001b[49m\u001b[43m(\u001b[49m\u001b[43mcmd\u001b[49m\u001b[43m,\u001b[49m\u001b[43m \u001b[49m\u001b[43mlines\u001b[49m\u001b[43m)\u001b[49m\n\u001b[32m    448\u001b[39m     \u001b[38;5;28;01mreturn\u001b[39;00m lines\n\u001b[32m    449\u001b[39m \u001b[38;5;28;01mfinally\u001b[39;00m:\n",
      "\u001b[36mFile \u001b[39m\u001b[32m/opt/homebrew/anaconda3/envs/bmad2025-06-27/lib/python3.13/site-packages/pytao/tao_ctypes/core.py:417\u001b[39m, in \u001b[36mTaoCore._check_output_lines\u001b[39m\u001b[34m(self, cmd, lines)\u001b[39m\n\u001b[32m    415\u001b[39m err = util.error_in_lines(lines)\n\u001b[32m    416\u001b[39m \u001b[38;5;28;01mif\u001b[39;00m err:\n\u001b[32m--> \u001b[39m\u001b[32m417\u001b[39m     \u001b[38;5;28;01mraise\u001b[39;00m TaoCommandError(\n\u001b[32m    418\u001b[39m         \u001b[33mf\u001b[39m\u001b[33m\"\u001b[39m\u001b[33mCommand: \u001b[39m\u001b[38;5;132;01m{\u001b[39;00mcmd\u001b[38;5;132;01m}\u001b[39;00m\u001b[33m causes error: \u001b[39m\u001b[38;5;132;01m{\u001b[39;00merr\u001b[38;5;132;01m}\u001b[39;00m\u001b[33m\"\u001b[39m,\n\u001b[32m    419\u001b[39m         tao_output=\u001b[33m\"\u001b[39m\u001b[38;5;130;01m\\n\u001b[39;00m\u001b[33m\"\u001b[39m.join(lines),\n\u001b[32m    420\u001b[39m     )\n",
      "\u001b[31mTaoCommandError\u001b[39m: Command: write madx /Users/nmajik/flatGoldenLattice.madx causes error: ERROR detected: [ERROR | 2025-JUL-08 09:22:57] write_lattice_in_mad_format:\n    I DO NOT KNOW HOW TO TRANSLATE ELEMENT: TCY10490_1\n    WHICH IS OF TYPE: Crab_Cavity\n    CONVERTING TO DRIFT\n[ERROR | 2025-JUL-08 09:22:57] write_lattice_in_mad_format:\n    I DO NOT KNOW HOW TO TRANSLATE ELEMENT: TCY10490_2\n    WHICH IS OF TYPE: Crab_Cavity\n    CONVERTING TO DRIFT\n[ERROR | 2025-JUL-08 09:22:57] write_lattice_in_mad_format:\n    I DO NOT KNOW HOW TO TRANSLATE ELEMENT: TCY15280\n    WHICH IS OF TYPE: Crab_Cavity\n    CONVERTING TO DRIFT\n[ERROR | 2025-JUL-08 09:22:57] write_lattice_in_mad_format:\n    I DO NOT KNOW HOW TO TRANSLATE ELEMENT: XTCAVF\n    WHICH IS OF TYPE: Crab_Cavity\n    CONVERTING TO DRIFT\n[INFO] write_lattice_in_mad_format:\n    Written MAD-X lattice file: /Users/nmajik/flatGoldenLattice.madx\n[INFO] tao_write_cmd:\n    Written: /Users/nmajik/flatGoldenLattice.madx"
     ]
    }
   ],
   "source": [
    "tao.cmd(\"write madx /Users/nmajik/flatGoldenLattice.madx\")"
   ]
  },
  {
   "cell_type": "code",
   "execution_count": null,
   "id": "74f3c975-f63e-4d79-bced-903953045697",
   "metadata": {},
   "outputs": [],
   "source": []
  }
 ],
 "metadata": {
  "kernelspec": {
   "display_name": "Python 3 (ipykernel)",
   "language": "python",
   "name": "python3"
  },
  "language_info": {
   "codemirror_mode": {
    "name": "ipython",
    "version": 3
   },
   "file_extension": ".py",
   "mimetype": "text/x-python",
   "name": "python",
   "nbconvert_exporter": "python",
   "pygments_lexer": "ipython3",
   "version": "3.13.5"
  }
 },
 "nbformat": 4,
 "nbformat_minor": 5
}
