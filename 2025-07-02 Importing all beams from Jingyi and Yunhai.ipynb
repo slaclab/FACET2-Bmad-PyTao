{
 "cells": [
  {
   "cell_type": "code",
   "execution_count": 3,
   "id": "9226f0c2-00cb-4349-8495-762b89cc1253",
   "metadata": {},
   "outputs": [],
   "source": [
    "# Adapting from \"2025-03-27 Importing beams from Jingyi.ipynb\" and \"2025-04-27 Importing beams from Yunhai.ipynb\"\n",
    "from UTILITY_quickstart import *\n",
    "import json"
   ]
  },
  {
   "cell_type": "code",
   "execution_count": 5,
   "id": "97331556-a05e-4c28-b242-45d74a06625a",
   "metadata": {},
   "outputs": [],
   "source": [
    "yunhai1D = []\n",
    "\n",
    "def makeRow(chirp, fileSuffix): \n",
    "    with open(f'/Users/nmajik/Downloads/LEGO_1D_2D/{fileSuffix}', 'r') as f:\n",
    "        d = json.load(f)\n",
    "    \n",
    "    P = ParticleGroup(data = d)\n",
    "\n",
    "    specs = getBeamSpecs(P) \n",
    "\n",
    "    return { \"chirp\" : chirp, \"P\" : P, \"specs\" : specs }\n",
    "\n",
    "yunhai1D.append( makeRow( 0.0, \"chirp0_0.1Dcsr.json\" ) )\n",
    "\n",
    "\n",
    "yunhai1D.append( makeRow( 0.0,      \"chirp0_0.1Dcsr.json\"   ) ) \n",
    "yunhai1D.append( makeRow( 0.005,    \"chirp0_005.1Dcsr.json\" ) ) \n",
    "yunhai1D.append( makeRow( 0.01,     \"chirp0_01.1Dcsr.json\"  ) ) \n",
    "yunhai1D.append( makeRow( 0.015,    \"chirp0_015.1Dcsr.json\" ) ) \n",
    "yunhai1D.append( makeRow( 0.02,     \"chirp0_02.1Dcsr.json\"  ) ) \n",
    "yunhai1D.append( makeRow( 0.05,     \"chirp0_05.1Dcsr.json\"  ) ) "
   ]
  },
  {
   "cell_type": "code",
   "execution_count": null,
   "id": "397d944c-40cf-4067-ade7-81c1d39517c2",
   "metadata": {},
   "outputs": [],
   "source": []
  }
 ],
 "metadata": {
  "kernelspec": {
   "display_name": "Python 3 (ipykernel)",
   "language": "python",
   "name": "python3"
  },
  "language_info": {
   "codemirror_mode": {
    "name": "ipython",
    "version": 3
   },
   "file_extension": ".py",
   "mimetype": "text/x-python",
   "name": "python",
   "nbconvert_exporter": "python",
   "pygments_lexer": "ipython3",
   "version": "3.13.5"
  }
 },
 "nbformat": 4,
 "nbformat_minor": 5
}
