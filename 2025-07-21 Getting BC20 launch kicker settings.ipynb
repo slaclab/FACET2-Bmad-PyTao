{
 "cells": [
  {
   "cell_type": "code",
   "execution_count": 1,
   "id": "1339d236-847e-4b06-96dd-824a32ca191b",
   "metadata": {},
   "outputs": [],
   "source": [
    "from UTILITY_quickstart import *"
   ]
  },
  {
   "cell_type": "code",
   "execution_count": 2,
   "id": "3c5da815-f47f-417d-8cfe-c555fbb64907",
   "metadata": {},
   "outputs": [],
   "source": [
    "importedDefaultSettings = loadConfig(\"setLattice_configs/2024-10-22_oneBunch_baseline2.1.yml\")"
   ]
  },
  {
   "cell_type": "code",
   "execution_count": 3,
   "id": "e9fe297c-d573-4570-9786-abf21359b0b4",
   "metadata": {},
   "outputs": [
    {
     "name": "stdout",
     "output_type": "stream",
     "text": [
      "Environment set to:  /Users/nmajik/Documents/SLAC/FACET2-S2E\n",
      "CSR on\n",
      "Overwriting lattice with setLattice() defaults\n",
      "No defaults file provided to setLattice(). Using /Users/nmajik/Documents/SLAC/FACET2-S2E/setLattice_configs/defaults.yml\n",
      "Number of macro particles = 10000.0\n",
      "Beam created, written to /tmp/beams/activeBeamFile_12510777842854075926.h5, and reinit to tao\n",
      "Loaded /tmp/beams/activeBeamFile_12510777842854075926.h5\n",
      "Set track_start = L0AFEND, track_end = end\n",
      "Set track_end = MFFF\n",
      "Tracking!\n",
      "Beam centered at MFFF written to /tmp/beams/patchBeamFile_12510777842854075926.h5\n",
      "Loaded /tmp/beams/patchBeamFile_12510777842854075926.h5\n",
      "Set track_start = MFFF, track_end = end\n",
      "Tracking!\n",
      "trackBeam() exiting\n"
     ]
    }
   ],
   "source": [
    "csrTF = True\n",
    "evalElement = \"PENT\"\n",
    "#evalElement = \"BEGPDC\"\n",
    "\n",
    "\n",
    "inputBeamFilePathSuffix = importedDefaultSettings[\"inputBeamFilePathSuffix\"]\n",
    "bunchCount = importedDefaultSettings[\"bunchCount\"]\n",
    "tao = initializeTao(\n",
    "    inputBeamFilePathSuffix = inputBeamFilePathSuffix,\n",
    "    \n",
    "    csrTF = csrTF,\n",
    "    numMacroParticles=1e4,\n",
    "    scratchPath = \"/tmp\",\n",
    "    randomizeFileNames = True\n",
    ")\n",
    "\n",
    "\n",
    "#tao.cmd(\"set ele * space_charge_method = slice\")\n",
    "#tao.cmd(\"set ele * space_charge_method = fft_3d\")\n",
    "\n",
    "\n",
    "\n",
    "setLattice(tao, **importedDefaultSettings  )\n",
    "\n",
    "trackBeam(tao, \n",
    "          **importedDefaultSettings,\n",
    "          verbose = True\n",
    "         )"
   ]
  },
  {
   "cell_type": "code",
   "execution_count": 4,
   "id": "34aecd73-0b4f-4604-bc36-de625c499e45",
   "metadata": {},
   "outputs": [],
   "source": [
    "P = getBeamAtElement(tao, \"LI19BEG\")\n",
    "makeBeamActiveBeamFile(P, tao = tao) "
   ]
  },
  {
   "cell_type": "code",
   "execution_count": 5,
   "id": "324d7062-92d0-4c4c-bda3-bb1c6621cebb",
   "metadata": {},
   "outputs": [
    {
     "name": "stdout",
     "output_type": "stream",
     "text": [
      "Loaded /tmp/beams/activeBeamFile_12510777842854075926.h5\n",
      "Set track_start = LI19BEG, track_end = BEGBC20\n",
      "Tracking!\n",
      "trackBeam() exiting\n"
     ]
    }
   ],
   "source": [
    "setLattice(tao, **importedDefaultSettings  )\n",
    "trackBeam(tao, \n",
    "          trackStart = \"LI19BEG\",\n",
    "          trackEnd = \"BEGBC20\",\n",
    "          **importedDefaultSettings,\n",
    "          verbose = True\n",
    "         )\n",
    "\n",
    "P = getBeamAtElement(tao, \"BEGBC20\")"
   ]
  },
  {
   "cell_type": "code",
   "execution_count": 6,
   "id": "8f2193f9-3a61-48a2-bf94-17245b78c3ed",
   "metadata": {},
   "outputs": [],
   "source": [
    "# results = []\n",
    "# for XC19802kG in np.arange(-1e-3, 1e-3, 1e-4): \n",
    "#     for XC19900kG in np.arange(-1e-3, 1e-3, 1e-4): \n",
    "\n",
    "def objective(params):\n",
    "    [XC19802kG, XC19900kG] = params\n",
    "    setLattice(tao, **importedDefaultSettings | {\"XC19802kG\" : XC19802kG, \"XC19900kG\" : XC19900kG}  )\n",
    "    trackBeam(tao, \n",
    "              trackStart = \"LI19BEG\",\n",
    "              trackEnd = \"BEGBC20\",\n",
    "              **importedDefaultSettings\n",
    "             )\n",
    "    \n",
    "    P = getBeamAtElement(tao, \"BEGBC20\")\n",
    "    \n",
    "    specs = getBeamSpecs(P)\n",
    "\n",
    "    \n",
    "    print( 1e6 * specs[\"PDrive_median_x\"], 1e6 * specs[\"PDrive_median_xp\"], XC19802kG, XC19900kG )\n",
    "\n",
    "    return specs[\"PDrive_median_x\"] ** 2 + specs[\"PDrive_median_xp\"] ** 2"
   ]
  },
  {
   "cell_type": "code",
   "execution_count": 7,
   "id": "c36b5a7f-e4dd-4a6d-812f-9655a6f3a344",
   "metadata": {},
   "outputs": [
    {
     "name": "stdout",
     "output_type": "stream",
     "text": [
      "-123.56395128322275 3.796876632130731 0.0 0.0\n"
     ]
    },
    {
     "data": {
      "text/plain": [
       "np.float64(1.5282466328882264e-08)"
      ]
     },
     "execution_count": 7,
     "metadata": {},
     "output_type": "execute_result"
    }
   ],
   "source": [
    "objective([0.0, 0.0])"
   ]
  },
  {
   "cell_type": "code",
   "execution_count": 8,
   "id": "b404c17e-4e68-44fc-b552-33255340c583",
   "metadata": {},
   "outputs": [
    {
     "name": "stdout",
     "output_type": "stream",
     "text": [
      "-123.56395315395744 3.7968768406444693 0.0 0.0\n",
      "-134.2011507140617 3.260526449978391 0.00025 0.0\n",
      "-127.61680191102711 3.19004219849577 0.0 0.00025\n",
      "-116.99894858985756 3.72639266035982 -0.00025 0.00025\n",
      "-108.4067860292732 3.9592096180403638 -0.0005 0.000375\n",
      "-104.35781848674283 4.566159929657251 -0.0005 0.000125\n",
      "-92.7191184081562 5.2542186644465865 -0.00075 6.250000000000006e-05\n",
      "-77.57581117590911 5.416667475234109 -0.00125 0.00043750000000000006\n",
      "-54.58192516680367 6.226107059228583 -0.001875 0.0006562500000000001\n",
      "-38.927750187720896 7.521456554047683 -0.0021249999999999997 0.0003437500000000002\n",
      "-4.158655695757975 9.30252208556625 -0.0029375 0.0003281250000000003\n",
      "34.054533091433115 10.27483111002446 -0.0040625 0.0009218750000000004\n",
      "84.57556286668986 13.350824875590256 -0.005125 0.0005937500000000005\n",
      "-19.80520101866566 8.007628636655456 -0.0026875 0.0006406250000000002\n",
      "-57.96975089586166 7.035284510300218 -0.0015624999999999997 4.687500000000015e-05\n",
      "11.021808212300364 9.464970560044211 -0.0034375 0.0007031250000000003\n",
      "26.709440199277303 10.759864208167706 -0.0036875000000000007 0.00039062500000000024\n",
      "-8.216295621716048 8.69568742085351 -0.0029375 0.0005781250000000003\n",
      "-23.336775955741935 8.533238504774447 -0.0024375 0.0002031250000000003\n",
      "2.426411403354781 9.232037507422937 -0.0031875000000000002 0.0005781250000000003\n",
      "6.479858219639127 9.838872144891482 -0.0031875000000000002 0.0003281250000000003\n",
      "2.814513605970958 9.553075919379737 -0.0031250000000000006 0.00039062500000000024\n",
      "9.3753801782802 9.482591614138089 -0.0033750000000000004 0.0006406250000000002\n",
      "-0.7589599975697308 9.347539471510206 -0.003046875 0.00040625000000000025\n",
      "-1.146399353822551 9.0265010705983 -0.0031093749999999997 0.0005937500000000002\n",
      "-3.1448842421880614 8.76321345071067 -0.0031015624999999993 0.0006953125000000002\n",
      "-4.352578319181921 9.142002728180845 -0.00296875 0.00042187500000000016\n",
      "0.7450005139020233 9.209528848673939 -0.0031328125 0.0005390625000000003\n",
      "0.3569249035210901 8.88849074237227 -0.0031953124999999994 0.0007265625000000003\n",
      "0.9065408270904517 8.658451967993546 -0.003269531249999999 0.0008867187500000004\n",
      "-0.9745015261661544 8.475112251472785 -0.003246093749999998 0.0009414062500000002\n",
      "-1.8342535322760865 8.106711608128627 -0.003302734374999998 0.0011425781250000004\n",
      "0.21109396854713217 7.740035083860811 -0.0034628906249999972 0.0014355468750000006\n",
      "0.8830274662103195 7.096901967401858 -0.003639648437499996 0.0018564453125000005\n",
      "-1.8505522761711992 6.5478246137241864 -0.003672851562499995 0.0021123046875000002\n",
      "-3.2290970821510965 5.496663508917542 -0.0038745117187499924 0.0027250976562499998\n",
      "-0.5091099555899069 4.485468916652693 -0.0042114257812499905 0.00343896484375\n",
      "0.15948333476562335 2.6728125605004767 -0.004665771484374987 0.0045871582031249995\n",
      "-3.9619768195907126 1.0737223226952575 -0.004900634765624984 0.005455810546874999\n",
      "-0.5463802037661459 -1.737003672119473 -0.005691894531249979 0.007317871093749999\n",
      "0.7760724772151689 -5.3544832127995985 -0.006600585937499973 0.009614257812499999\n",
      "3.5721855616313682 -0.14013693446858067 -0.005457031249999983 0.006449218749999999\n",
      "1.6929591144468503 0.1622119813850623 -0.005317932128906232 0.00620086669921875\n",
      "0.9675231983858249 -4.248684273613112 -0.006344055175781224 0.008931579589843749\n",
      "0.36653827065770767 0.9429787709694002 -0.005085342407226546 0.0056732635498046875\n",
      "2.607309795011629 2.8449965202205734 -0.004711380004882798 0.004556259155273438\n",
      "0.2391516564832762 -0.5938530097597894 -0.005446765899658184 0.006627468109130859\n",
      "-1.0854248062665952 0.18444139153022035 -0.005214176177978499 0.006099864959716797\n",
      "-0.39091276795933244 0.17888399718011327 -0.005240115165710432 0.0061251153945922855\n",
      "-0.5170672412639393 -1.3542384141616477 -0.005601538658142069 0.007079319953918457\n",
      "0.14559683148007557 0.36686158614823083 -0.0052143914699554275 0.00602477765083313\n",
      "-0.4890138648590985 1.1421831465474437 -0.005007740736007675 0.005522424936294556\n",
      "0.05680130464901876 -0.1602040052996297 -0.005337009608745557 0.006351207315921783\n",
      "0.5919819065324788 0.026881993591920107 -0.005311285912990553 0.006250869572162626\n",
      "-0.14436200711774555 0.14085946690579532 -0.005257907852530462 0.006156553938984871\n",
      "-0.23322372748703746 -0.3859098222990866 -0.005380525991320592 0.006482983604073524\n",
      "0.05140117847398599 0.17834770915368026 -0.005255925100296719 0.006139329139143229\n",
      "0.25185499666294975 -0.12275768311247315 -0.0053350268565118125 0.006333982516080141\n",
      "-0.044636213254231775 0.07471889219076681 -0.0052771876035258 0.006200911083258688\n",
      "-0.03944714043603004 -0.2636928307688978 -0.005358272111974637 0.006412789260037242\n",
      "0.028906286893915306 0.06755571401460263 -0.005281511853216198 0.006207694169366732\n",
      "-0.07417817127873982 0.3034660498590353 -0.005221689847996441 0.006057397936703637\n",
      "0.02448741825059268 -0.044611038058457377 -0.005308179668558278 0.0062777549711172465\n"
     ]
    }
   ],
   "source": [
    "from scipy.optimize import minimize\n",
    "\n",
    "result = minimize(\n",
    "    objective, \n",
    "    [0,0], #Starting point\n",
    "    method='Nelder-Mead'\n",
    ")"
   ]
  },
  {
   "cell_type": "code",
   "execution_count": 9,
   "id": "ba2cfb5f-0a03-4f9a-a5c7-fa65f5ca38cb",
   "metadata": {},
   "outputs": [
    {
     "data": {
      "text/plain": [
       "       message: Optimization terminated successfully.\n",
       "       success: True\n",
       "        status: 0\n",
       "           fun: 2.589778369232592e-15\n",
       "             x: [-5.308e-03  6.278e-03]\n",
       "           nit: 32\n",
       "          nfev: 63\n",
       " final_simplex: (array([[-5.308e-03,  6.278e-03],\n",
       "                       [-5.282e-03,  6.208e-03],\n",
       "                       [-5.277e-03,  6.201e-03]]), array([ 2.590e-15,  5.399e-15,  7.575e-15]))"
      ]
     },
     "execution_count": 9,
     "metadata": {},
     "output_type": "execute_result"
    }
   ],
   "source": [
    "result"
   ]
  },
  {
   "cell_type": "code",
   "execution_count": null,
   "id": "ca1d8f17-c11f-4ef5-9a6c-68dfea013d16",
   "metadata": {},
   "outputs": [],
   "source": []
  }
 ],
 "metadata": {
  "kernelspec": {
   "display_name": "Python 3 (ipykernel)",
   "language": "python",
   "name": "python3"
  },
  "language_info": {
   "codemirror_mode": {
    "name": "ipython",
    "version": 3
   },
   "file_extension": ".py",
   "mimetype": "text/x-python",
   "name": "python",
   "nbconvert_exporter": "python",
   "pygments_lexer": "ipython3",
   "version": "3.13.5"
  }
 },
 "nbformat": 4,
 "nbformat_minor": 5
}
