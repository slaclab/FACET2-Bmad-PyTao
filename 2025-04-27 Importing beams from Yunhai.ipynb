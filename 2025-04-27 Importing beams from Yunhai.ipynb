{
 "cells": [
  {
   "cell_type": "code",
   "execution_count": 1,
   "id": "676ae8e2-330f-4a01-a681-9f56fba4b2bc",
   "metadata": {},
   "outputs": [],
   "source": [
    "# Adapting \"2025-02-13 BC14 and TCAV3 emittance scans.ipynb\" and \"2025-03-11 Importing beams from Jingyi.ipynb\"\n",
    "from UTILITY_quickstart import *\n",
    "\n",
    "importedDefaultSettings = loadConfig(\"setLattice_configs/2024-10-22_oneBunch_baseline.yml\")"
   ]
  },
  {
   "cell_type": "code",
   "execution_count": 2,
   "id": "d95c309b-50d9-4264-b841-51db3b5055a0",
   "metadata": {},
   "outputs": [
    {
     "name": "stdout",
     "output_type": "stream",
     "text": [
      "Environment set to:  /Users/nmajik/Documents/SLAC/FACET2-Bmad-PyTao\n",
      "Tracking to end\n",
      "CSR on\n",
      "Overwriting lattice with setLattice() defaults\n",
      "No defaults file provided to setLattice(). Using setLattice_configs/defaults.yml\n",
      "Number of macro particles = 10000.0\n",
      "Beam created, written to /tmp/beams/activeBeamFile_239865241995219094.h5, and reinit to tao\n",
      "No evalElement provided. Assuming golden lattice PR10571\n",
      "Optimization Results:\n",
      "Optimal Parameters: [28.77872199 13.3970811  23.51278494 16.8307956 ]\n",
      "Objective Function Value at Optimal Parameters: 9.505958617749993e-12\n",
      "Number of Iterations: 260\n",
      "Converged: True\n"
     ]
    },
    {
     "data": {
      "text/plain": [
       "[]"
      ]
     },
     "execution_count": 2,
     "metadata": {},
     "output_type": "execute_result"
    }
   ],
   "source": [
    "csrTF = True\n",
    "\n",
    "\n",
    "bunchCount = importedDefaultSettings[\"bunchCount\"]\n",
    "\n",
    "tao = initializeTao(\n",
    "    inputBeamFilePathSuffix = importedDefaultSettings[\"inputBeamFilePathSuffix\"],\n",
    "    \n",
    "    csrTF = csrTF,\n",
    "    numMacroParticles=1e4,\n",
    "    scratchPath = \"/tmp\",\n",
    "    randomizeFileNames = True\n",
    ")\n",
    "\n",
    "setLattice(tao, **importedDefaultSettings)\n",
    "launchTwissCorrection(tao)\n",
    "\n",
    "\n",
    "trackStart = \"ENDBC14E\"\n",
    "trackEnd = \"PR15944\"\n",
    "\n",
    "\n",
    "tao.cmd(f\"set ele TCY15280 VOLTAGE = 20e6\")\n",
    "tao.cmd(f\"set ele TCY15280 PHI0 = {0/360.0}\")"
   ]
  },
  {
   "cell_type": "markdown",
   "id": "80e09e74-97a2-4cdf-ae38-003fb73bfeb7",
   "metadata": {},
   "source": [
    "## Working on parsing and importing Yunhai's format"
   ]
  },
  {
   "cell_type": "raw",
   "id": "c6836cae-b393-49b5-92ae-c1f816b8cb3c",
   "metadata": {},
   "source": [
    "Import with \"2025-04-27 Parsing Yunhai's files.nb\""
   ]
  },
  {
   "cell_type": "code",
   "execution_count": 3,
   "id": "bfb12750-268b-47c1-b66c-250c8336e958",
   "metadata": {},
   "outputs": [],
   "source": [
    "trackBeam(tao, trackEnd = \"ENDBC14E\", **importedDefaultSettings)\n",
    "P = getBeamAtElement(tao, \"ENDBC14E\")"
   ]
  },
  {
   "cell_type": "code",
   "execution_count": 4,
   "id": "3741ef05-8060-4fde-890f-b22b49998a0b",
   "metadata": {},
   "outputs": [
    {
     "name": "stdout",
     "output_type": "stream",
     "text": [
      "x, y, z: 0.00011662824497923542, 5.9994865850397885e-05, 3.7010669610774685e-05\n",
      "px, py, pz: 79027.55614025336, 40981.66829042848, 61691353.65571428\n",
      "xp, yp, rel_pz: 1.7797030582425663e-05, 9.249301725835544e-06, 0.013922499197789345\n",
      "energy: 4431054597.976368\n",
      "mean z, t:  -5.036257813970496e-14, 1.3915374152912633e-06\n",
      "3.70362915641874e-05\n",
      "[-4.26612359e-09  1.00165630e-08  4.53523510e-08 ... -4.52054616e-09\n",
      "  5.38384562e-09 -1.59845239e-08]\n"
     ]
    }
   ],
   "source": [
    "print(f\"\"\"x, y, z: {P[\"sigma_x\"]}, {P[\"sigma_y\"]}, {P[\"sigma_z\"]}\"\"\")\n",
    "\n",
    "print(f\"\"\"px, py, pz: {P[\"sigma_px\"]}, {P[\"sigma_py\"]}, {P[\"sigma_pz\"]}\"\"\")\n",
    "\n",
    "print(f\"\"\"xp, yp, rel_pz: {P[\"sigma_xp\"]}, {P[\"sigma_yp\"]}, {P[\"sigma_pz\"]/P[\"mean_pz\"]}\"\"\")\n",
    "\n",
    "print(f\"\"\"energy: {P[\"mean_energy\"]}\"\"\")\n",
    "\n",
    "print(f\"\"\"mean z, t:  {P[\"mean_z\"]}, {P[\"mean_t\"]}\"\"\")\n",
    "\n",
    "print(P[\"sigma_t\"] * 3e8)\n",
    "\n",
    "#Don't trust... but seems that (t - <t>) c = -z \n",
    "print( (P[\"t\"] - P[\"mean_t\"]) * 3e8 + P[\"z\"] ) "
   ]
  },
  {
   "cell_type": "code",
   "execution_count": 5,
   "id": "b5a1e014-8086-4704-b9ed-96b18deb761c",
   "metadata": {},
   "outputs": [
    {
     "name": "stdout",
     "output_type": "stream",
     "text": [
      "[1 1 1 ... 1 1 1]\n",
      "[1.6e-13 1.6e-13 1.6e-13 ... 1.6e-13 1.6e-13 1.6e-13]\n",
      "electron\n"
     ]
    }
   ],
   "source": [
    "print(P[\"status\"])\n",
    "print(P[\"weight\"])\n",
    "print(P[\"species\"])"
   ]
  },
  {
   "cell_type": "code",
   "execution_count": 6,
   "id": "d9813a97-0ea6-4cb3-b5ff-7e640b0cfc72",
   "metadata": {},
   "outputs": [],
   "source": [
    "import json\n",
    "with open('/Users/nmajik/testExport.json', 'r') as f:\n",
    "    d = json.load(f)"
   ]
  },
  {
   "cell_type": "code",
   "execution_count": 7,
   "id": "7e116060-d599-413b-8ec4-ae67347c7bfd",
   "metadata": {},
   "outputs": [],
   "source": [
    "P = ParticleGroup(data = d)"
   ]
  },
  {
   "cell_type": "code",
   "execution_count": 8,
   "id": "7078c3c8-961b-4adc-993d-cc7b39ca1693",
   "metadata": {},
   "outputs": [
    {
     "name": "stdout",
     "output_type": "stream",
     "text": [
      "x, y, z: 0.00011872496398473486, 5.2505276141230385e-05, 5.2505276141230385e-05\n",
      "px, py, pz: 80952.98596091988, 41672.83820646465, 62622838.011790514\n",
      "xp, yp, rel_pz: 1.8243814098060392e-05, 9.407436498910284e-06, 0.014137425749875147\n",
      "energy: 4429578592.238009\n",
      "mean z, t:  -1.347344162162338e-07, 1.3915374536556716e-06\n",
      "3.3088955964281794e-05\n",
      "[ 7.93779497e-05  3.76446036e-05  2.09166265e-06 ...  3.71527030e-05\n",
      " -2.36504701e-05  8.02975409e-05]\n"
     ]
    }
   ],
   "source": [
    "print(f\"\"\"x, y, z: {P[\"sigma_x\"]}, {P[\"sigma_y\"]}, {P[\"sigma_z\"]}\"\"\")\n",
    "\n",
    "print(f\"\"\"px, py, pz: {P[\"sigma_px\"]}, {P[\"sigma_py\"]}, {P[\"sigma_pz\"]}\"\"\")\n",
    "\n",
    "print(f\"\"\"xp, yp, rel_pz: {P[\"sigma_xp\"]}, {P[\"sigma_yp\"]}, {P[\"sigma_pz\"]/P[\"mean_pz\"]}\"\"\")\n",
    "\n",
    "print(f\"\"\"energy: {P[\"mean_energy\"]}\"\"\")\n",
    "\n",
    "print(f\"\"\"mean z, t:  {P[\"mean_z\"]}, {P[\"mean_t\"]}\"\"\")\n",
    "\n",
    "print(P[\"sigma_t\"] * 3e8)\n",
    "\n",
    "#Don't trust... but seems that (t - <t>) c = -z \n",
    "print( (P[\"t\"] - P[\"mean_t\"]) * 3e8 + P[\"z\"] ) "
   ]
  },
  {
   "cell_type": "code",
   "execution_count": 9,
   "id": "e0ebcbfc-c355-4a2f-854c-ae8224b2ffac",
   "metadata": {},
   "outputs": [],
   "source": [
    "PReference = getBeamAtElement(tao, \"ENDBC14E\")"
   ]
  },
  {
   "cell_type": "code",
   "execution_count": 10,
   "id": "f1625d31-229e-4c23-a186-72776fdf3a3f",
   "metadata": {},
   "outputs": [
    {
     "data": {
      "text/plain": [
       "<Figure size 640x480 with 0 Axes>"
      ]
     },
     "metadata": {},
     "output_type": "display_data"
    }
   ],
   "source": [
    "fileSuffix = \"reference\"\n",
    "PStart = PReference\n",
    "\n",
    "#Figures for starting beam\n",
    "fig = plotMod(PStart, 'x', 'xp', bins=300, xlim = (-0.0005, 0.0005), ylim = (-100e-6, 50e-6) )\n",
    "fig.savefig(f\"/Users/nmajik/{fileSuffix}_xxp.png\")\n",
    "fig = plotMod(PStart, 'delta_t', 'pz', bins=300, xlim = (-200e-15, 200e-15), ylim = (4.3e9, 4.6e9))\n",
    "fig.savefig(f\"/Users/nmajik/{fileSuffix}_tpz.png\")\n",
    "\n",
    "\n",
    "\n",
    "\n",
    "#Track. Then plot and dump final beam\n",
    "\n",
    "makeBeamActiveBeamFile( PStart, tao = tao )\n",
    "trackBeam(tao, trackStart = trackStart, trackEnd = trackEnd, **importedDefaultSettings)\n",
    "\n",
    "\n",
    "P = getBeamAtElement(tao, trackEnd)\n",
    "\n",
    "fig = plotMod(P, 'x', 'y', bins=300, xlim = (-0.5e-3, 1e-3), ylim = (-1e-3,2e-3))\n",
    "\n",
    "\n",
    "fig.savefig(f\"/Users/nmajik/{fileSuffix}_streaked.png\")\n",
    "\n",
    "P.write(f\"/Users/nmajik/{fileSuffix}_streaked.h5\")\n",
    "\n",
    "\n",
    "plt.clf()"
   ]
  },
  {
   "cell_type": "markdown",
   "id": "4bdc8b5c-4ad7-485d-804a-1f150e52a507",
   "metadata": {},
   "source": [
    "## Loop to make images"
   ]
  },
  {
   "cell_type": "code",
   "execution_count": 11,
   "id": "0bfbf663-9644-4ef6-9480-2ffbcab763a5",
   "metadata": {},
   "outputs": [
    {
     "name": "stdout",
     "output_type": "stream",
     "text": [
      " chirp0_0.1Dcsr.json, 2.383748254493385e-05, 0.0002634650988007763, 0.0002806055913115039\n",
      " chirp0_005.1Dcsr.json, 2.6097515769549958e-05, 0.00019601815051305602, 0.0001939935011409852\n",
      " chirp0_01.1Dcsr.json, 2.8396146687204098e-05, 0.00015928194033150214, 0.00015315054984232023\n",
      " chirp0_015.1Dcsr.json, 3.072566838616945e-05, 0.00013658293648854202, 0.00013236638650048532\n",
      " chirp0_02.1Dcsr.json, 3.3079781026537226e-05, 0.00012112958305934318, 0.00012085203991108827\n",
      " chirp0_05.1Dcsr.json, 4.751480495693093e-05, 7.970001537963314e-05, 0.00010188794158000298\n",
      " chirp0_0.2Dcsr.json, 2.4375605741747868e-05, 0.0003360137709624563, 0.0003245530302676438\n",
      " chirp0_005.2Dcsr.json, 2.6537972562744715e-05, 0.00024908835824689635, 0.00022737528729237024\n",
      " chirp0_01.2Dcsr.json, 2.8769580772848472e-05, 0.0002016094394410521, 0.00017900105478531092\n",
      " chirp0_015.2Dcsr.json, 3.105086607297616e-05, 0.00017093692757511465, 0.00015151694856240286\n",
      " chirp0_02.2Dcsr.json, 3.336479882638767e-05, 0.00014934981427679831, 0.00013492323619758377\n",
      " chirp0_05.2Dcsr.json, 4.766892500274214e-05, 8.93571768331806e-05, 0.00010472318083739066\n"
     ]
    }
   ],
   "source": [
    "fileSuffixes = [\n",
    "    \"chirp0_0.1Dcsr.json\",\n",
    "    \"chirp0_005.1Dcsr.json\",\n",
    "    \"chirp0_01.1Dcsr.json\",\n",
    "    \"chirp0_015.1Dcsr.json\",\n",
    "    \"chirp0_02.1Dcsr.json\",\n",
    "    \"chirp0_05.1Dcsr.json\",\n",
    "\n",
    "    \"chirp0_0.2Dcsr.json\",\n",
    "    \"chirp0_005.2Dcsr.json\",\n",
    "    \"chirp0_01.2Dcsr.json\",\n",
    "    \"chirp0_015.2Dcsr.json\",\n",
    "    \"chirp0_02.2Dcsr.json\",\n",
    "    \"chirp0_05.2Dcsr.json\",\n",
    "]\n",
    "\n",
    "for fileSuffix in fileSuffixes:\n",
    "\n",
    "    with open(f'/Users/nmajik/Downloads/LEGO_1D_2D/{fileSuffix}', 'r') as f:\n",
    "        d = json.load(f)\n",
    "\n",
    "    \n",
    "    PStart = ParticleGroup(data = d)\n",
    "\n",
    "    #Figures for starting beam\n",
    "    fig = plotMod(PStart, 'x', 'xp', bins=300, xlim = (-0.0005, 0.0005), ylim = (-100e-6, 50e-6) )\n",
    "    fig.savefig(f\"/Users/nmajik/{fileSuffix}_xxp.png\")\n",
    "    fig = plotMod(PStart, 'delta_t', 'pz', bins=300, xlim = (-200e-15, 200e-15), ylim = (4.3e9, 4.6e9))\n",
    "    fig.savefig(f\"/Users/nmajik/{fileSuffix}_tpz.png\")\n",
    "\n",
    "\n",
    "\n",
    "\n",
    "    #Track. Then plot and dump final beam\n",
    "    \n",
    "    makeBeamActiveBeamFile( PStart, tao = tao )\n",
    "    trackBeam(tao, trackStart = trackStart, trackEnd = trackEnd, **importedDefaultSettings)\n",
    "\n",
    "\n",
    "    P = getBeamAtElement(tao, trackEnd)\n",
    "\n",
    "    fig = plotMod(P, 'x', 'y', bins=300, xlim = (-0.5e-3, 1e-3), ylim = (-2e-3,2e-3))\n",
    "\n",
    "    \n",
    "    fig.savefig(f\"/Users/nmajik/{fileSuffix}_streaked.png\")\n",
    "\n",
    "    P.write(f\"/Users/nmajik/{fileSuffix}_streaked.h5\")\n",
    "\n",
    "    \n",
    "    plt.clf()\n",
    "\n",
    "    print(f\"\"\" {fileSuffix}, {P[\"sigma_z\"]}, {P[\"mean_x\"]}, {P[\"sigma_x\"]}\"\"\")\n",
    " "
   ]
  },
  {
   "cell_type": "code",
   "execution_count": null,
   "id": "610923b5-f963-4575-8600-d89a1c97c78c",
   "metadata": {},
   "outputs": [],
   "source": []
  }
 ],
 "metadata": {
  "kernelspec": {
   "display_name": "Python 3 (ipykernel)",
   "language": "python",
   "name": "python3"
  },
  "language_info": {
   "codemirror_mode": {
    "name": "ipython",
    "version": 3
   },
   "file_extension": ".py",
   "mimetype": "text/x-python",
   "name": "python",
   "nbconvert_exporter": "python",
   "pygments_lexer": "ipython3",
   "version": "3.13.5"
  }
 },
 "nbformat": 4,
 "nbformat_minor": 5
}
