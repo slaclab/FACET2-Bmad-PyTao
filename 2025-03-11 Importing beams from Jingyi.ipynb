{
 "cells": [
  {
   "cell_type": "code",
   "execution_count": 1,
   "id": "c580d1ea-b522-4e68-98ba-5f156e67d87b",
   "metadata": {},
   "outputs": [],
   "source": [
    "from UTILITY_quickstart import *"
   ]
  },
  {
   "cell_type": "code",
   "execution_count": 4,
   "id": "a41c3419-ae40-4e76-a2c4-07cb45e9dd04",
   "metadata": {},
   "outputs": [],
   "source": [
    "fileSuffixes = [\n",
    "    \"1D_chirp+0_0.h5\",\n",
    "    \"1D_chirp+0_005.h5\",\n",
    "    \"1D_chirp+0_01.h5\",\n",
    "    \"1D_chirp+0_015.h5\",\n",
    "    \"1D_chirp+0_02.h5\",\n",
    "    \"BC14_chirp+0_0.h5\",\n",
    "    \"BC14_chirp+0_005.h5\",\n",
    "    \"BC14_chirp+0_01.h5\",\n",
    "    \"BC14_chirp+0_015.h5\",\n",
    "    \"BC14_chirp+0_02.h5\"\n",
    "]\n",
    "\n",
    "for fileSuffix in fileSuffixes:\n",
    "    P = ParticleGroup(f\"/Users/nmajik/Downloads/particles/{fileSuffix}\")\n",
    "    \n",
    "    fig = plotMod(P, 'x', 'xp', bins=300, xlim = (-0.0005, 0.0005), ylim = (-50e-6, 100e-6) )\n",
    "\n",
    "    fig.savefig(f\"{fileSuffix}_xxp.png\")\n",
    "    \n",
    "    fig = plotMod(P, 'delta_t', 'pz', bins=300, xlim = (-200e-15, 200e-15), ylim = (4.3e9, 4.6e9))\n",
    "\n",
    "    fig.savefig(f\"{fileSuffix}_tpz.png\")\n",
    "    \n",
    "    plt.clf()\n",
    " \n"
   ]
  },
  {
   "cell_type": "code",
   "execution_count": null,
   "id": "75156fd1-1cd2-435a-a6f8-4000364d1eef",
   "metadata": {},
   "outputs": [],
   "source": []
  }
 ],
 "metadata": {
  "kernelspec": {
   "display_name": "Python 3 (ipykernel)",
   "language": "python",
   "name": "python3"
  },
  "language_info": {
   "codemirror_mode": {
    "name": "ipython",
    "version": 3
   },
   "file_extension": ".py",
   "mimetype": "text/x-python",
   "name": "python",
   "nbconvert_exporter": "python",
   "pygments_lexer": "ipython3",
   "version": "3.11.8"
  }
 },
 "nbformat": 4,
 "nbformat_minor": 5
}
